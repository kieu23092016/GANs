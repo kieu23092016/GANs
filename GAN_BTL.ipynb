{
  "nbformat": 4,
  "nbformat_minor": 0,
  "metadata": {
    "colab": {
      "name": "GAN-BTL",
      "provenance": [],
      "collapsed_sections": [
        "CF_JbXDiUHcJ",
        "4n6OsFnEbIz9",
        "e1a7UzU-UHcT",
        "OlGULouwUHcb"
      ]
    },
    "kernelspec": {
      "display_name": "Python 3",
      "language": "python",
      "name": "python3"
    },
    "language_info": {
      "codemirror_mode": {
        "name": "ipython",
        "version": 3
      },
      "file_extension": ".py",
      "mimetype": "text/x-python",
      "name": "python",
      "nbconvert_exporter": "python",
      "pygments_lexer": "ipython3",
      "version": "3.7.3"
    },
    "widgets": {
      "application/vnd.jupyter.widget-state+json": {
        "2a300449e8b04517bd836ae423688126": {
          "model_module": "@jupyter-widgets/controls",
          "model_name": "HBoxModel",
          "model_module_version": "1.5.0",
          "state": {
            "_view_name": "HBoxView",
            "_dom_classes": [],
            "_model_name": "HBoxModel",
            "_view_module": "@jupyter-widgets/controls",
            "_model_module_version": "1.5.0",
            "_view_count": null,
            "_view_module_version": "1.5.0",
            "box_style": "",
            "layout": "IPY_MODEL_9db829d4760249ce95afa3b0cabb5faa",
            "_model_module": "@jupyter-widgets/controls",
            "children": [
              "IPY_MODEL_dc2a5767125d41ce824439a048258749",
              "IPY_MODEL_4474d91cdabd41f98964b0415902dd33",
              "IPY_MODEL_b6069e1b84964ac595a7f73ce5bf95eb"
            ]
          }
        },
        "9db829d4760249ce95afa3b0cabb5faa": {
          "model_module": "@jupyter-widgets/base",
          "model_name": "LayoutModel",
          "model_module_version": "1.2.0",
          "state": {
            "_view_name": "LayoutView",
            "grid_template_rows": null,
            "right": null,
            "justify_content": null,
            "_view_module": "@jupyter-widgets/base",
            "overflow": null,
            "_model_module_version": "1.2.0",
            "_view_count": null,
            "flex_flow": null,
            "width": null,
            "min_width": null,
            "border": null,
            "align_items": null,
            "bottom": null,
            "_model_module": "@jupyter-widgets/base",
            "top": null,
            "grid_column": null,
            "overflow_y": null,
            "overflow_x": null,
            "grid_auto_flow": null,
            "grid_area": null,
            "grid_template_columns": null,
            "flex": null,
            "_model_name": "LayoutModel",
            "justify_items": null,
            "grid_row": null,
            "max_height": null,
            "align_content": null,
            "visibility": null,
            "align_self": null,
            "height": null,
            "min_height": null,
            "padding": null,
            "grid_auto_rows": null,
            "grid_gap": null,
            "max_width": null,
            "order": null,
            "_view_module_version": "1.2.0",
            "grid_template_areas": null,
            "object_position": null,
            "object_fit": null,
            "grid_auto_columns": null,
            "margin": null,
            "display": null,
            "left": null
          }
        },
        "dc2a5767125d41ce824439a048258749": {
          "model_module": "@jupyter-widgets/controls",
          "model_name": "HTMLModel",
          "model_module_version": "1.5.0",
          "state": {
            "_view_name": "HTMLView",
            "style": "IPY_MODEL_bbff7cde22d14d91a12f423f75c6f72c",
            "_dom_classes": [],
            "description": "",
            "_model_name": "HTMLModel",
            "placeholder": "​",
            "_view_module": "@jupyter-widgets/controls",
            "_model_module_version": "1.5.0",
            "value": "",
            "_view_count": null,
            "_view_module_version": "1.5.0",
            "description_tooltip": null,
            "_model_module": "@jupyter-widgets/controls",
            "layout": "IPY_MODEL_d8ae79992c6542bcb53a325fe8dc489c"
          }
        },
        "4474d91cdabd41f98964b0415902dd33": {
          "model_module": "@jupyter-widgets/controls",
          "model_name": "FloatProgressModel",
          "model_module_version": "1.5.0",
          "state": {
            "_view_name": "ProgressView",
            "style": "IPY_MODEL_6de5906b5937488697fa98230ae600fd",
            "_dom_classes": [],
            "description": "",
            "_model_name": "FloatProgressModel",
            "bar_style": "success",
            "max": 9912422,
            "_view_module": "@jupyter-widgets/controls",
            "_model_module_version": "1.5.0",
            "value": 9912422,
            "_view_count": null,
            "_view_module_version": "1.5.0",
            "orientation": "horizontal",
            "min": 0,
            "description_tooltip": null,
            "_model_module": "@jupyter-widgets/controls",
            "layout": "IPY_MODEL_8c0841710972431fa3ea149af084c447"
          }
        },
        "b6069e1b84964ac595a7f73ce5bf95eb": {
          "model_module": "@jupyter-widgets/controls",
          "model_name": "HTMLModel",
          "model_module_version": "1.5.0",
          "state": {
            "_view_name": "HTMLView",
            "style": "IPY_MODEL_e79ef7f3cd434c05881ad632595112df",
            "_dom_classes": [],
            "description": "",
            "_model_name": "HTMLModel",
            "placeholder": "​",
            "_view_module": "@jupyter-widgets/controls",
            "_model_module_version": "1.5.0",
            "value": " 9913344/? [00:00&lt;00:00, 18288526.63it/s]",
            "_view_count": null,
            "_view_module_version": "1.5.0",
            "description_tooltip": null,
            "_model_module": "@jupyter-widgets/controls",
            "layout": "IPY_MODEL_a3145374806346dbbdf62873b49a596f"
          }
        },
        "bbff7cde22d14d91a12f423f75c6f72c": {
          "model_module": "@jupyter-widgets/controls",
          "model_name": "DescriptionStyleModel",
          "model_module_version": "1.5.0",
          "state": {
            "_view_name": "StyleView",
            "_model_name": "DescriptionStyleModel",
            "description_width": "",
            "_view_module": "@jupyter-widgets/base",
            "_model_module_version": "1.5.0",
            "_view_count": null,
            "_view_module_version": "1.2.0",
            "_model_module": "@jupyter-widgets/controls"
          }
        },
        "d8ae79992c6542bcb53a325fe8dc489c": {
          "model_module": "@jupyter-widgets/base",
          "model_name": "LayoutModel",
          "model_module_version": "1.2.0",
          "state": {
            "_view_name": "LayoutView",
            "grid_template_rows": null,
            "right": null,
            "justify_content": null,
            "_view_module": "@jupyter-widgets/base",
            "overflow": null,
            "_model_module_version": "1.2.0",
            "_view_count": null,
            "flex_flow": null,
            "width": null,
            "min_width": null,
            "border": null,
            "align_items": null,
            "bottom": null,
            "_model_module": "@jupyter-widgets/base",
            "top": null,
            "grid_column": null,
            "overflow_y": null,
            "overflow_x": null,
            "grid_auto_flow": null,
            "grid_area": null,
            "grid_template_columns": null,
            "flex": null,
            "_model_name": "LayoutModel",
            "justify_items": null,
            "grid_row": null,
            "max_height": null,
            "align_content": null,
            "visibility": null,
            "align_self": null,
            "height": null,
            "min_height": null,
            "padding": null,
            "grid_auto_rows": null,
            "grid_gap": null,
            "max_width": null,
            "order": null,
            "_view_module_version": "1.2.0",
            "grid_template_areas": null,
            "object_position": null,
            "object_fit": null,
            "grid_auto_columns": null,
            "margin": null,
            "display": null,
            "left": null
          }
        },
        "6de5906b5937488697fa98230ae600fd": {
          "model_module": "@jupyter-widgets/controls",
          "model_name": "ProgressStyleModel",
          "model_module_version": "1.5.0",
          "state": {
            "_view_name": "StyleView",
            "_model_name": "ProgressStyleModel",
            "description_width": "",
            "_view_module": "@jupyter-widgets/base",
            "_model_module_version": "1.5.0",
            "_view_count": null,
            "_view_module_version": "1.2.0",
            "bar_color": null,
            "_model_module": "@jupyter-widgets/controls"
          }
        },
        "8c0841710972431fa3ea149af084c447": {
          "model_module": "@jupyter-widgets/base",
          "model_name": "LayoutModel",
          "model_module_version": "1.2.0",
          "state": {
            "_view_name": "LayoutView",
            "grid_template_rows": null,
            "right": null,
            "justify_content": null,
            "_view_module": "@jupyter-widgets/base",
            "overflow": null,
            "_model_module_version": "1.2.0",
            "_view_count": null,
            "flex_flow": null,
            "width": null,
            "min_width": null,
            "border": null,
            "align_items": null,
            "bottom": null,
            "_model_module": "@jupyter-widgets/base",
            "top": null,
            "grid_column": null,
            "overflow_y": null,
            "overflow_x": null,
            "grid_auto_flow": null,
            "grid_area": null,
            "grid_template_columns": null,
            "flex": null,
            "_model_name": "LayoutModel",
            "justify_items": null,
            "grid_row": null,
            "max_height": null,
            "align_content": null,
            "visibility": null,
            "align_self": null,
            "height": null,
            "min_height": null,
            "padding": null,
            "grid_auto_rows": null,
            "grid_gap": null,
            "max_width": null,
            "order": null,
            "_view_module_version": "1.2.0",
            "grid_template_areas": null,
            "object_position": null,
            "object_fit": null,
            "grid_auto_columns": null,
            "margin": null,
            "display": null,
            "left": null
          }
        },
        "e79ef7f3cd434c05881ad632595112df": {
          "model_module": "@jupyter-widgets/controls",
          "model_name": "DescriptionStyleModel",
          "model_module_version": "1.5.0",
          "state": {
            "_view_name": "StyleView",
            "_model_name": "DescriptionStyleModel",
            "description_width": "",
            "_view_module": "@jupyter-widgets/base",
            "_model_module_version": "1.5.0",
            "_view_count": null,
            "_view_module_version": "1.2.0",
            "_model_module": "@jupyter-widgets/controls"
          }
        },
        "a3145374806346dbbdf62873b49a596f": {
          "model_module": "@jupyter-widgets/base",
          "model_name": "LayoutModel",
          "model_module_version": "1.2.0",
          "state": {
            "_view_name": "LayoutView",
            "grid_template_rows": null,
            "right": null,
            "justify_content": null,
            "_view_module": "@jupyter-widgets/base",
            "overflow": null,
            "_model_module_version": "1.2.0",
            "_view_count": null,
            "flex_flow": null,
            "width": null,
            "min_width": null,
            "border": null,
            "align_items": null,
            "bottom": null,
            "_model_module": "@jupyter-widgets/base",
            "top": null,
            "grid_column": null,
            "overflow_y": null,
            "overflow_x": null,
            "grid_auto_flow": null,
            "grid_area": null,
            "grid_template_columns": null,
            "flex": null,
            "_model_name": "LayoutModel",
            "justify_items": null,
            "grid_row": null,
            "max_height": null,
            "align_content": null,
            "visibility": null,
            "align_self": null,
            "height": null,
            "min_height": null,
            "padding": null,
            "grid_auto_rows": null,
            "grid_gap": null,
            "max_width": null,
            "order": null,
            "_view_module_version": "1.2.0",
            "grid_template_areas": null,
            "object_position": null,
            "object_fit": null,
            "grid_auto_columns": null,
            "margin": null,
            "display": null,
            "left": null
          }
        },
        "b9e82ba3ba6d4c0fbb201c40abaa54c0": {
          "model_module": "@jupyter-widgets/controls",
          "model_name": "HBoxModel",
          "model_module_version": "1.5.0",
          "state": {
            "_view_name": "HBoxView",
            "_dom_classes": [],
            "_model_name": "HBoxModel",
            "_view_module": "@jupyter-widgets/controls",
            "_model_module_version": "1.5.0",
            "_view_count": null,
            "_view_module_version": "1.5.0",
            "box_style": "",
            "layout": "IPY_MODEL_cd7c59983f444dd19f0e362efb7b8ce9",
            "_model_module": "@jupyter-widgets/controls",
            "children": [
              "IPY_MODEL_e225825314df42989d79d951c66db339",
              "IPY_MODEL_47a7f196553e420994dfaa5f9ca990d2",
              "IPY_MODEL_ce3ab80aadf7481fa2a780963242fab6"
            ]
          }
        },
        "cd7c59983f444dd19f0e362efb7b8ce9": {
          "model_module": "@jupyter-widgets/base",
          "model_name": "LayoutModel",
          "model_module_version": "1.2.0",
          "state": {
            "_view_name": "LayoutView",
            "grid_template_rows": null,
            "right": null,
            "justify_content": null,
            "_view_module": "@jupyter-widgets/base",
            "overflow": null,
            "_model_module_version": "1.2.0",
            "_view_count": null,
            "flex_flow": null,
            "width": null,
            "min_width": null,
            "border": null,
            "align_items": null,
            "bottom": null,
            "_model_module": "@jupyter-widgets/base",
            "top": null,
            "grid_column": null,
            "overflow_y": null,
            "overflow_x": null,
            "grid_auto_flow": null,
            "grid_area": null,
            "grid_template_columns": null,
            "flex": null,
            "_model_name": "LayoutModel",
            "justify_items": null,
            "grid_row": null,
            "max_height": null,
            "align_content": null,
            "visibility": null,
            "align_self": null,
            "height": null,
            "min_height": null,
            "padding": null,
            "grid_auto_rows": null,
            "grid_gap": null,
            "max_width": null,
            "order": null,
            "_view_module_version": "1.2.0",
            "grid_template_areas": null,
            "object_position": null,
            "object_fit": null,
            "grid_auto_columns": null,
            "margin": null,
            "display": null,
            "left": null
          }
        },
        "e225825314df42989d79d951c66db339": {
          "model_module": "@jupyter-widgets/controls",
          "model_name": "HTMLModel",
          "model_module_version": "1.5.0",
          "state": {
            "_view_name": "HTMLView",
            "style": "IPY_MODEL_a8055eb3ec5d4958831cb4b3ae847d25",
            "_dom_classes": [],
            "description": "",
            "_model_name": "HTMLModel",
            "placeholder": "​",
            "_view_module": "@jupyter-widgets/controls",
            "_model_module_version": "1.5.0",
            "value": "",
            "_view_count": null,
            "_view_module_version": "1.5.0",
            "description_tooltip": null,
            "_model_module": "@jupyter-widgets/controls",
            "layout": "IPY_MODEL_e94b5861138a4f8096de1f9053eda3fe"
          }
        },
        "47a7f196553e420994dfaa5f9ca990d2": {
          "model_module": "@jupyter-widgets/controls",
          "model_name": "FloatProgressModel",
          "model_module_version": "1.5.0",
          "state": {
            "_view_name": "ProgressView",
            "style": "IPY_MODEL_d61df40bdacb43b2ba8a8b9096c4d25b",
            "_dom_classes": [],
            "description": "",
            "_model_name": "FloatProgressModel",
            "bar_style": "success",
            "max": 28881,
            "_view_module": "@jupyter-widgets/controls",
            "_model_module_version": "1.5.0",
            "value": 28881,
            "_view_count": null,
            "_view_module_version": "1.5.0",
            "orientation": "horizontal",
            "min": 0,
            "description_tooltip": null,
            "_model_module": "@jupyter-widgets/controls",
            "layout": "IPY_MODEL_db598984ccb841bca6cd0dd511070aaa"
          }
        },
        "ce3ab80aadf7481fa2a780963242fab6": {
          "model_module": "@jupyter-widgets/controls",
          "model_name": "HTMLModel",
          "model_module_version": "1.5.0",
          "state": {
            "_view_name": "HTMLView",
            "style": "IPY_MODEL_c8befe02aade4f9d9ce1d6b07c35beb0",
            "_dom_classes": [],
            "description": "",
            "_model_name": "HTMLModel",
            "placeholder": "​",
            "_view_module": "@jupyter-widgets/controls",
            "_model_module_version": "1.5.0",
            "value": " 29696/? [00:00&lt;00:00, 629852.95it/s]",
            "_view_count": null,
            "_view_module_version": "1.5.0",
            "description_tooltip": null,
            "_model_module": "@jupyter-widgets/controls",
            "layout": "IPY_MODEL_37fe90379210419d9b60725ad50e2494"
          }
        },
        "a8055eb3ec5d4958831cb4b3ae847d25": {
          "model_module": "@jupyter-widgets/controls",
          "model_name": "DescriptionStyleModel",
          "model_module_version": "1.5.0",
          "state": {
            "_view_name": "StyleView",
            "_model_name": "DescriptionStyleModel",
            "description_width": "",
            "_view_module": "@jupyter-widgets/base",
            "_model_module_version": "1.5.0",
            "_view_count": null,
            "_view_module_version": "1.2.0",
            "_model_module": "@jupyter-widgets/controls"
          }
        },
        "e94b5861138a4f8096de1f9053eda3fe": {
          "model_module": "@jupyter-widgets/base",
          "model_name": "LayoutModel",
          "model_module_version": "1.2.0",
          "state": {
            "_view_name": "LayoutView",
            "grid_template_rows": null,
            "right": null,
            "justify_content": null,
            "_view_module": "@jupyter-widgets/base",
            "overflow": null,
            "_model_module_version": "1.2.0",
            "_view_count": null,
            "flex_flow": null,
            "width": null,
            "min_width": null,
            "border": null,
            "align_items": null,
            "bottom": null,
            "_model_module": "@jupyter-widgets/base",
            "top": null,
            "grid_column": null,
            "overflow_y": null,
            "overflow_x": null,
            "grid_auto_flow": null,
            "grid_area": null,
            "grid_template_columns": null,
            "flex": null,
            "_model_name": "LayoutModel",
            "justify_items": null,
            "grid_row": null,
            "max_height": null,
            "align_content": null,
            "visibility": null,
            "align_self": null,
            "height": null,
            "min_height": null,
            "padding": null,
            "grid_auto_rows": null,
            "grid_gap": null,
            "max_width": null,
            "order": null,
            "_view_module_version": "1.2.0",
            "grid_template_areas": null,
            "object_position": null,
            "object_fit": null,
            "grid_auto_columns": null,
            "margin": null,
            "display": null,
            "left": null
          }
        },
        "d61df40bdacb43b2ba8a8b9096c4d25b": {
          "model_module": "@jupyter-widgets/controls",
          "model_name": "ProgressStyleModel",
          "model_module_version": "1.5.0",
          "state": {
            "_view_name": "StyleView",
            "_model_name": "ProgressStyleModel",
            "description_width": "",
            "_view_module": "@jupyter-widgets/base",
            "_model_module_version": "1.5.0",
            "_view_count": null,
            "_view_module_version": "1.2.0",
            "bar_color": null,
            "_model_module": "@jupyter-widgets/controls"
          }
        },
        "db598984ccb841bca6cd0dd511070aaa": {
          "model_module": "@jupyter-widgets/base",
          "model_name": "LayoutModel",
          "model_module_version": "1.2.0",
          "state": {
            "_view_name": "LayoutView",
            "grid_template_rows": null,
            "right": null,
            "justify_content": null,
            "_view_module": "@jupyter-widgets/base",
            "overflow": null,
            "_model_module_version": "1.2.0",
            "_view_count": null,
            "flex_flow": null,
            "width": null,
            "min_width": null,
            "border": null,
            "align_items": null,
            "bottom": null,
            "_model_module": "@jupyter-widgets/base",
            "top": null,
            "grid_column": null,
            "overflow_y": null,
            "overflow_x": null,
            "grid_auto_flow": null,
            "grid_area": null,
            "grid_template_columns": null,
            "flex": null,
            "_model_name": "LayoutModel",
            "justify_items": null,
            "grid_row": null,
            "max_height": null,
            "align_content": null,
            "visibility": null,
            "align_self": null,
            "height": null,
            "min_height": null,
            "padding": null,
            "grid_auto_rows": null,
            "grid_gap": null,
            "max_width": null,
            "order": null,
            "_view_module_version": "1.2.0",
            "grid_template_areas": null,
            "object_position": null,
            "object_fit": null,
            "grid_auto_columns": null,
            "margin": null,
            "display": null,
            "left": null
          }
        },
        "c8befe02aade4f9d9ce1d6b07c35beb0": {
          "model_module": "@jupyter-widgets/controls",
          "model_name": "DescriptionStyleModel",
          "model_module_version": "1.5.0",
          "state": {
            "_view_name": "StyleView",
            "_model_name": "DescriptionStyleModel",
            "description_width": "",
            "_view_module": "@jupyter-widgets/base",
            "_model_module_version": "1.5.0",
            "_view_count": null,
            "_view_module_version": "1.2.0",
            "_model_module": "@jupyter-widgets/controls"
          }
        },
        "37fe90379210419d9b60725ad50e2494": {
          "model_module": "@jupyter-widgets/base",
          "model_name": "LayoutModel",
          "model_module_version": "1.2.0",
          "state": {
            "_view_name": "LayoutView",
            "grid_template_rows": null,
            "right": null,
            "justify_content": null,
            "_view_module": "@jupyter-widgets/base",
            "overflow": null,
            "_model_module_version": "1.2.0",
            "_view_count": null,
            "flex_flow": null,
            "width": null,
            "min_width": null,
            "border": null,
            "align_items": null,
            "bottom": null,
            "_model_module": "@jupyter-widgets/base",
            "top": null,
            "grid_column": null,
            "overflow_y": null,
            "overflow_x": null,
            "grid_auto_flow": null,
            "grid_area": null,
            "grid_template_columns": null,
            "flex": null,
            "_model_name": "LayoutModel",
            "justify_items": null,
            "grid_row": null,
            "max_height": null,
            "align_content": null,
            "visibility": null,
            "align_self": null,
            "height": null,
            "min_height": null,
            "padding": null,
            "grid_auto_rows": null,
            "grid_gap": null,
            "max_width": null,
            "order": null,
            "_view_module_version": "1.2.0",
            "grid_template_areas": null,
            "object_position": null,
            "object_fit": null,
            "grid_auto_columns": null,
            "margin": null,
            "display": null,
            "left": null
          }
        },
        "13a504ad9b32441b96e5ae248e9df72a": {
          "model_module": "@jupyter-widgets/controls",
          "model_name": "HBoxModel",
          "model_module_version": "1.5.0",
          "state": {
            "_view_name": "HBoxView",
            "_dom_classes": [],
            "_model_name": "HBoxModel",
            "_view_module": "@jupyter-widgets/controls",
            "_model_module_version": "1.5.0",
            "_view_count": null,
            "_view_module_version": "1.5.0",
            "box_style": "",
            "layout": "IPY_MODEL_7c511ffbab0c4ba195ee45ff39e60866",
            "_model_module": "@jupyter-widgets/controls",
            "children": [
              "IPY_MODEL_f609c5cf49fd424384bcea0841947aa3",
              "IPY_MODEL_1228ef3ea899477bb490a19bfa5563d7",
              "IPY_MODEL_d668f5eed0b44a449ab2183b598ebf56"
            ]
          }
        },
        "7c511ffbab0c4ba195ee45ff39e60866": {
          "model_module": "@jupyter-widgets/base",
          "model_name": "LayoutModel",
          "model_module_version": "1.2.0",
          "state": {
            "_view_name": "LayoutView",
            "grid_template_rows": null,
            "right": null,
            "justify_content": null,
            "_view_module": "@jupyter-widgets/base",
            "overflow": null,
            "_model_module_version": "1.2.0",
            "_view_count": null,
            "flex_flow": null,
            "width": null,
            "min_width": null,
            "border": null,
            "align_items": null,
            "bottom": null,
            "_model_module": "@jupyter-widgets/base",
            "top": null,
            "grid_column": null,
            "overflow_y": null,
            "overflow_x": null,
            "grid_auto_flow": null,
            "grid_area": null,
            "grid_template_columns": null,
            "flex": null,
            "_model_name": "LayoutModel",
            "justify_items": null,
            "grid_row": null,
            "max_height": null,
            "align_content": null,
            "visibility": null,
            "align_self": null,
            "height": null,
            "min_height": null,
            "padding": null,
            "grid_auto_rows": null,
            "grid_gap": null,
            "max_width": null,
            "order": null,
            "_view_module_version": "1.2.0",
            "grid_template_areas": null,
            "object_position": null,
            "object_fit": null,
            "grid_auto_columns": null,
            "margin": null,
            "display": null,
            "left": null
          }
        },
        "f609c5cf49fd424384bcea0841947aa3": {
          "model_module": "@jupyter-widgets/controls",
          "model_name": "HTMLModel",
          "model_module_version": "1.5.0",
          "state": {
            "_view_name": "HTMLView",
            "style": "IPY_MODEL_8f472ec055e94dd99b3f76fcfd8622a2",
            "_dom_classes": [],
            "description": "",
            "_model_name": "HTMLModel",
            "placeholder": "​",
            "_view_module": "@jupyter-widgets/controls",
            "_model_module_version": "1.5.0",
            "value": "",
            "_view_count": null,
            "_view_module_version": "1.5.0",
            "description_tooltip": null,
            "_model_module": "@jupyter-widgets/controls",
            "layout": "IPY_MODEL_796eccdaf22d4e1891aca29c1b409dd3"
          }
        },
        "1228ef3ea899477bb490a19bfa5563d7": {
          "model_module": "@jupyter-widgets/controls",
          "model_name": "FloatProgressModel",
          "model_module_version": "1.5.0",
          "state": {
            "_view_name": "ProgressView",
            "style": "IPY_MODEL_4cfa0d8340b240b59170e0860b5833bd",
            "_dom_classes": [],
            "description": "",
            "_model_name": "FloatProgressModel",
            "bar_style": "success",
            "max": 1648877,
            "_view_module": "@jupyter-widgets/controls",
            "_model_module_version": "1.5.0",
            "value": 1648877,
            "_view_count": null,
            "_view_module_version": "1.5.0",
            "orientation": "horizontal",
            "min": 0,
            "description_tooltip": null,
            "_model_module": "@jupyter-widgets/controls",
            "layout": "IPY_MODEL_942278bdd1da4474952da41ecbe8541c"
          }
        },
        "d668f5eed0b44a449ab2183b598ebf56": {
          "model_module": "@jupyter-widgets/controls",
          "model_name": "HTMLModel",
          "model_module_version": "1.5.0",
          "state": {
            "_view_name": "HTMLView",
            "style": "IPY_MODEL_65aa7ff80dd1404abe0a85c1dd739b5d",
            "_dom_classes": [],
            "description": "",
            "_model_name": "HTMLModel",
            "placeholder": "​",
            "_view_module": "@jupyter-widgets/controls",
            "_model_module_version": "1.5.0",
            "value": " 1649664/? [00:00&lt;00:00, 17886352.35it/s]",
            "_view_count": null,
            "_view_module_version": "1.5.0",
            "description_tooltip": null,
            "_model_module": "@jupyter-widgets/controls",
            "layout": "IPY_MODEL_10aad65d26234dabbfd5305691f255a7"
          }
        },
        "8f472ec055e94dd99b3f76fcfd8622a2": {
          "model_module": "@jupyter-widgets/controls",
          "model_name": "DescriptionStyleModel",
          "model_module_version": "1.5.0",
          "state": {
            "_view_name": "StyleView",
            "_model_name": "DescriptionStyleModel",
            "description_width": "",
            "_view_module": "@jupyter-widgets/base",
            "_model_module_version": "1.5.0",
            "_view_count": null,
            "_view_module_version": "1.2.0",
            "_model_module": "@jupyter-widgets/controls"
          }
        },
        "796eccdaf22d4e1891aca29c1b409dd3": {
          "model_module": "@jupyter-widgets/base",
          "model_name": "LayoutModel",
          "model_module_version": "1.2.0",
          "state": {
            "_view_name": "LayoutView",
            "grid_template_rows": null,
            "right": null,
            "justify_content": null,
            "_view_module": "@jupyter-widgets/base",
            "overflow": null,
            "_model_module_version": "1.2.0",
            "_view_count": null,
            "flex_flow": null,
            "width": null,
            "min_width": null,
            "border": null,
            "align_items": null,
            "bottom": null,
            "_model_module": "@jupyter-widgets/base",
            "top": null,
            "grid_column": null,
            "overflow_y": null,
            "overflow_x": null,
            "grid_auto_flow": null,
            "grid_area": null,
            "grid_template_columns": null,
            "flex": null,
            "_model_name": "LayoutModel",
            "justify_items": null,
            "grid_row": null,
            "max_height": null,
            "align_content": null,
            "visibility": null,
            "align_self": null,
            "height": null,
            "min_height": null,
            "padding": null,
            "grid_auto_rows": null,
            "grid_gap": null,
            "max_width": null,
            "order": null,
            "_view_module_version": "1.2.0",
            "grid_template_areas": null,
            "object_position": null,
            "object_fit": null,
            "grid_auto_columns": null,
            "margin": null,
            "display": null,
            "left": null
          }
        },
        "4cfa0d8340b240b59170e0860b5833bd": {
          "model_module": "@jupyter-widgets/controls",
          "model_name": "ProgressStyleModel",
          "model_module_version": "1.5.0",
          "state": {
            "_view_name": "StyleView",
            "_model_name": "ProgressStyleModel",
            "description_width": "",
            "_view_module": "@jupyter-widgets/base",
            "_model_module_version": "1.5.0",
            "_view_count": null,
            "_view_module_version": "1.2.0",
            "bar_color": null,
            "_model_module": "@jupyter-widgets/controls"
          }
        },
        "942278bdd1da4474952da41ecbe8541c": {
          "model_module": "@jupyter-widgets/base",
          "model_name": "LayoutModel",
          "model_module_version": "1.2.0",
          "state": {
            "_view_name": "LayoutView",
            "grid_template_rows": null,
            "right": null,
            "justify_content": null,
            "_view_module": "@jupyter-widgets/base",
            "overflow": null,
            "_model_module_version": "1.2.0",
            "_view_count": null,
            "flex_flow": null,
            "width": null,
            "min_width": null,
            "border": null,
            "align_items": null,
            "bottom": null,
            "_model_module": "@jupyter-widgets/base",
            "top": null,
            "grid_column": null,
            "overflow_y": null,
            "overflow_x": null,
            "grid_auto_flow": null,
            "grid_area": null,
            "grid_template_columns": null,
            "flex": null,
            "_model_name": "LayoutModel",
            "justify_items": null,
            "grid_row": null,
            "max_height": null,
            "align_content": null,
            "visibility": null,
            "align_self": null,
            "height": null,
            "min_height": null,
            "padding": null,
            "grid_auto_rows": null,
            "grid_gap": null,
            "max_width": null,
            "order": null,
            "_view_module_version": "1.2.0",
            "grid_template_areas": null,
            "object_position": null,
            "object_fit": null,
            "grid_auto_columns": null,
            "margin": null,
            "display": null,
            "left": null
          }
        },
        "65aa7ff80dd1404abe0a85c1dd739b5d": {
          "model_module": "@jupyter-widgets/controls",
          "model_name": "DescriptionStyleModel",
          "model_module_version": "1.5.0",
          "state": {
            "_view_name": "StyleView",
            "_model_name": "DescriptionStyleModel",
            "description_width": "",
            "_view_module": "@jupyter-widgets/base",
            "_model_module_version": "1.5.0",
            "_view_count": null,
            "_view_module_version": "1.2.0",
            "_model_module": "@jupyter-widgets/controls"
          }
        },
        "10aad65d26234dabbfd5305691f255a7": {
          "model_module": "@jupyter-widgets/base",
          "model_name": "LayoutModel",
          "model_module_version": "1.2.0",
          "state": {
            "_view_name": "LayoutView",
            "grid_template_rows": null,
            "right": null,
            "justify_content": null,
            "_view_module": "@jupyter-widgets/base",
            "overflow": null,
            "_model_module_version": "1.2.0",
            "_view_count": null,
            "flex_flow": null,
            "width": null,
            "min_width": null,
            "border": null,
            "align_items": null,
            "bottom": null,
            "_model_module": "@jupyter-widgets/base",
            "top": null,
            "grid_column": null,
            "overflow_y": null,
            "overflow_x": null,
            "grid_auto_flow": null,
            "grid_area": null,
            "grid_template_columns": null,
            "flex": null,
            "_model_name": "LayoutModel",
            "justify_items": null,
            "grid_row": null,
            "max_height": null,
            "align_content": null,
            "visibility": null,
            "align_self": null,
            "height": null,
            "min_height": null,
            "padding": null,
            "grid_auto_rows": null,
            "grid_gap": null,
            "max_width": null,
            "order": null,
            "_view_module_version": "1.2.0",
            "grid_template_areas": null,
            "object_position": null,
            "object_fit": null,
            "grid_auto_columns": null,
            "margin": null,
            "display": null,
            "left": null
          }
        },
        "f64ed140f17f40ffab42a17cd59beee5": {
          "model_module": "@jupyter-widgets/controls",
          "model_name": "HBoxModel",
          "model_module_version": "1.5.0",
          "state": {
            "_view_name": "HBoxView",
            "_dom_classes": [],
            "_model_name": "HBoxModel",
            "_view_module": "@jupyter-widgets/controls",
            "_model_module_version": "1.5.0",
            "_view_count": null,
            "_view_module_version": "1.5.0",
            "box_style": "",
            "layout": "IPY_MODEL_a7fc196154f341dc894b615656a47d56",
            "_model_module": "@jupyter-widgets/controls",
            "children": [
              "IPY_MODEL_6dbe628dc89d487da46902b4dd396842",
              "IPY_MODEL_2498ac1cd41a4a46a97cc1330b8a3e68",
              "IPY_MODEL_ee229c1723dd4679af7547a799058aeb"
            ]
          }
        },
        "a7fc196154f341dc894b615656a47d56": {
          "model_module": "@jupyter-widgets/base",
          "model_name": "LayoutModel",
          "model_module_version": "1.2.0",
          "state": {
            "_view_name": "LayoutView",
            "grid_template_rows": null,
            "right": null,
            "justify_content": null,
            "_view_module": "@jupyter-widgets/base",
            "overflow": null,
            "_model_module_version": "1.2.0",
            "_view_count": null,
            "flex_flow": null,
            "width": null,
            "min_width": null,
            "border": null,
            "align_items": null,
            "bottom": null,
            "_model_module": "@jupyter-widgets/base",
            "top": null,
            "grid_column": null,
            "overflow_y": null,
            "overflow_x": null,
            "grid_auto_flow": null,
            "grid_area": null,
            "grid_template_columns": null,
            "flex": null,
            "_model_name": "LayoutModel",
            "justify_items": null,
            "grid_row": null,
            "max_height": null,
            "align_content": null,
            "visibility": null,
            "align_self": null,
            "height": null,
            "min_height": null,
            "padding": null,
            "grid_auto_rows": null,
            "grid_gap": null,
            "max_width": null,
            "order": null,
            "_view_module_version": "1.2.0",
            "grid_template_areas": null,
            "object_position": null,
            "object_fit": null,
            "grid_auto_columns": null,
            "margin": null,
            "display": null,
            "left": null
          }
        },
        "6dbe628dc89d487da46902b4dd396842": {
          "model_module": "@jupyter-widgets/controls",
          "model_name": "HTMLModel",
          "model_module_version": "1.5.0",
          "state": {
            "_view_name": "HTMLView",
            "style": "IPY_MODEL_ef3afcc447094b2a871a8370c141238c",
            "_dom_classes": [],
            "description": "",
            "_model_name": "HTMLModel",
            "placeholder": "​",
            "_view_module": "@jupyter-widgets/controls",
            "_model_module_version": "1.5.0",
            "value": "",
            "_view_count": null,
            "_view_module_version": "1.5.0",
            "description_tooltip": null,
            "_model_module": "@jupyter-widgets/controls",
            "layout": "IPY_MODEL_208f4a0404d4469d98179e4282c90973"
          }
        },
        "2498ac1cd41a4a46a97cc1330b8a3e68": {
          "model_module": "@jupyter-widgets/controls",
          "model_name": "FloatProgressModel",
          "model_module_version": "1.5.0",
          "state": {
            "_view_name": "ProgressView",
            "style": "IPY_MODEL_e471b9abd7984f078c5ac3a265ebd3d1",
            "_dom_classes": [],
            "description": "",
            "_model_name": "FloatProgressModel",
            "bar_style": "success",
            "max": 4542,
            "_view_module": "@jupyter-widgets/controls",
            "_model_module_version": "1.5.0",
            "value": 4542,
            "_view_count": null,
            "_view_module_version": "1.5.0",
            "orientation": "horizontal",
            "min": 0,
            "description_tooltip": null,
            "_model_module": "@jupyter-widgets/controls",
            "layout": "IPY_MODEL_b7314c1b369643259a1fc03008aad470"
          }
        },
        "ee229c1723dd4679af7547a799058aeb": {
          "model_module": "@jupyter-widgets/controls",
          "model_name": "HTMLModel",
          "model_module_version": "1.5.0",
          "state": {
            "_view_name": "HTMLView",
            "style": "IPY_MODEL_5ec0da5940c34a20be346d65973605f1",
            "_dom_classes": [],
            "description": "",
            "_model_name": "HTMLModel",
            "placeholder": "​",
            "_view_module": "@jupyter-widgets/controls",
            "_model_module_version": "1.5.0",
            "value": " 5120/? [00:00&lt;00:00, 104324.26it/s]",
            "_view_count": null,
            "_view_module_version": "1.5.0",
            "description_tooltip": null,
            "_model_module": "@jupyter-widgets/controls",
            "layout": "IPY_MODEL_fa5a1a0a5a744dfa92c5457895a80b9c"
          }
        },
        "ef3afcc447094b2a871a8370c141238c": {
          "model_module": "@jupyter-widgets/controls",
          "model_name": "DescriptionStyleModel",
          "model_module_version": "1.5.0",
          "state": {
            "_view_name": "StyleView",
            "_model_name": "DescriptionStyleModel",
            "description_width": "",
            "_view_module": "@jupyter-widgets/base",
            "_model_module_version": "1.5.0",
            "_view_count": null,
            "_view_module_version": "1.2.0",
            "_model_module": "@jupyter-widgets/controls"
          }
        },
        "208f4a0404d4469d98179e4282c90973": {
          "model_module": "@jupyter-widgets/base",
          "model_name": "LayoutModel",
          "model_module_version": "1.2.0",
          "state": {
            "_view_name": "LayoutView",
            "grid_template_rows": null,
            "right": null,
            "justify_content": null,
            "_view_module": "@jupyter-widgets/base",
            "overflow": null,
            "_model_module_version": "1.2.0",
            "_view_count": null,
            "flex_flow": null,
            "width": null,
            "min_width": null,
            "border": null,
            "align_items": null,
            "bottom": null,
            "_model_module": "@jupyter-widgets/base",
            "top": null,
            "grid_column": null,
            "overflow_y": null,
            "overflow_x": null,
            "grid_auto_flow": null,
            "grid_area": null,
            "grid_template_columns": null,
            "flex": null,
            "_model_name": "LayoutModel",
            "justify_items": null,
            "grid_row": null,
            "max_height": null,
            "align_content": null,
            "visibility": null,
            "align_self": null,
            "height": null,
            "min_height": null,
            "padding": null,
            "grid_auto_rows": null,
            "grid_gap": null,
            "max_width": null,
            "order": null,
            "_view_module_version": "1.2.0",
            "grid_template_areas": null,
            "object_position": null,
            "object_fit": null,
            "grid_auto_columns": null,
            "margin": null,
            "display": null,
            "left": null
          }
        },
        "e471b9abd7984f078c5ac3a265ebd3d1": {
          "model_module": "@jupyter-widgets/controls",
          "model_name": "ProgressStyleModel",
          "model_module_version": "1.5.0",
          "state": {
            "_view_name": "StyleView",
            "_model_name": "ProgressStyleModel",
            "description_width": "",
            "_view_module": "@jupyter-widgets/base",
            "_model_module_version": "1.5.0",
            "_view_count": null,
            "_view_module_version": "1.2.0",
            "bar_color": null,
            "_model_module": "@jupyter-widgets/controls"
          }
        },
        "b7314c1b369643259a1fc03008aad470": {
          "model_module": "@jupyter-widgets/base",
          "model_name": "LayoutModel",
          "model_module_version": "1.2.0",
          "state": {
            "_view_name": "LayoutView",
            "grid_template_rows": null,
            "right": null,
            "justify_content": null,
            "_view_module": "@jupyter-widgets/base",
            "overflow": null,
            "_model_module_version": "1.2.0",
            "_view_count": null,
            "flex_flow": null,
            "width": null,
            "min_width": null,
            "border": null,
            "align_items": null,
            "bottom": null,
            "_model_module": "@jupyter-widgets/base",
            "top": null,
            "grid_column": null,
            "overflow_y": null,
            "overflow_x": null,
            "grid_auto_flow": null,
            "grid_area": null,
            "grid_template_columns": null,
            "flex": null,
            "_model_name": "LayoutModel",
            "justify_items": null,
            "grid_row": null,
            "max_height": null,
            "align_content": null,
            "visibility": null,
            "align_self": null,
            "height": null,
            "min_height": null,
            "padding": null,
            "grid_auto_rows": null,
            "grid_gap": null,
            "max_width": null,
            "order": null,
            "_view_module_version": "1.2.0",
            "grid_template_areas": null,
            "object_position": null,
            "object_fit": null,
            "grid_auto_columns": null,
            "margin": null,
            "display": null,
            "left": null
          }
        },
        "5ec0da5940c34a20be346d65973605f1": {
          "model_module": "@jupyter-widgets/controls",
          "model_name": "DescriptionStyleModel",
          "model_module_version": "1.5.0",
          "state": {
            "_view_name": "StyleView",
            "_model_name": "DescriptionStyleModel",
            "description_width": "",
            "_view_module": "@jupyter-widgets/base",
            "_model_module_version": "1.5.0",
            "_view_count": null,
            "_view_module_version": "1.2.0",
            "_model_module": "@jupyter-widgets/controls"
          }
        },
        "fa5a1a0a5a744dfa92c5457895a80b9c": {
          "model_module": "@jupyter-widgets/base",
          "model_name": "LayoutModel",
          "model_module_version": "1.2.0",
          "state": {
            "_view_name": "LayoutView",
            "grid_template_rows": null,
            "right": null,
            "justify_content": null,
            "_view_module": "@jupyter-widgets/base",
            "overflow": null,
            "_model_module_version": "1.2.0",
            "_view_count": null,
            "flex_flow": null,
            "width": null,
            "min_width": null,
            "border": null,
            "align_items": null,
            "bottom": null,
            "_model_module": "@jupyter-widgets/base",
            "top": null,
            "grid_column": null,
            "overflow_y": null,
            "overflow_x": null,
            "grid_auto_flow": null,
            "grid_area": null,
            "grid_template_columns": null,
            "flex": null,
            "_model_name": "LayoutModel",
            "justify_items": null,
            "grid_row": null,
            "max_height": null,
            "align_content": null,
            "visibility": null,
            "align_self": null,
            "height": null,
            "min_height": null,
            "padding": null,
            "grid_auto_rows": null,
            "grid_gap": null,
            "max_width": null,
            "order": null,
            "_view_module_version": "1.2.0",
            "grid_template_areas": null,
            "object_position": null,
            "object_fit": null,
            "grid_auto_columns": null,
            "margin": null,
            "display": null,
            "left": null
          }
        }
      }
    },
    "accelerator": "GPU"
  },
  "cells": [
    {
      "cell_type": "markdown",
      "metadata": {
        "id": "lIz_mg9QUHbu"
      },
      "source": [
        "# Generative Adversarial Network\n"
      ]
    },
    {
      "cell_type": "markdown",
      "metadata": {
        "id": "edOlfz7KY2R0"
      },
      "source": [
        "##Chuẩn bị dữ liệu"
      ]
    },
    {
      "cell_type": "code",
      "metadata": {
        "id": "4rtwHJByUHcA"
      },
      "source": [
        "%matplotlib inline\n",
        "\n",
        "import numpy as np\n",
        "import torch\n",
        "import matplotlib.pyplot as plt\n",
        "import torch.optim as optim\n",
        "import torch.nn as nn\n",
        "import torch.nn.functional as F\n",
        "from torchvision import datasets\n",
        "import torchvision.transforms as transforms"
      ],
      "execution_count": 1,
      "outputs": []
    },
    {
      "cell_type": "code",
      "metadata": {
        "id": "FF9EetKEUHcH"
      },
      "source": [
        "# number of subprocesses to use for data loading\n",
        "num_workers = 0\n",
        "# how many samples per batch to load\n",
        "batch_size = 64\n",
        "# convert data to torch.FloatTensor\n",
        "transform = transforms.ToTensor()"
      ],
      "execution_count": 2,
      "outputs": []
    },
    {
      "cell_type": "code",
      "metadata": {
        "id": "pvS8m6uQE2_c"
      },
      "source": [
        "# Dữ liệu FashionMNIST\n",
        "# train_dataGAN = datasets.FashionMNIST(root='data', train=True,download=True, transform=transform)\n",
        "# Dữ liệu MNIST\n",
        "train_dataGAN = datasets.MNIST(root='data', train=True, download=True, transform=transform)\n",
        "# prepare data loader\n",
        "train_loaderGAN = torch.utils.data.DataLoader(train_data, batch_size=batch_size,shuffle=True,num_workers=num_workers)"
      ],
      "execution_count": null,
      "outputs": []
    },
    {
      "cell_type": "code",
      "metadata": {
        "id": "ZWu5YGjYD6Ug",
        "colab": {
          "base_uri": "https://localhost:8080/",
          "height": 436,
          "referenced_widgets": [
            "2a300449e8b04517bd836ae423688126",
            "9db829d4760249ce95afa3b0cabb5faa",
            "dc2a5767125d41ce824439a048258749",
            "4474d91cdabd41f98964b0415902dd33",
            "b6069e1b84964ac595a7f73ce5bf95eb",
            "bbff7cde22d14d91a12f423f75c6f72c",
            "d8ae79992c6542bcb53a325fe8dc489c",
            "6de5906b5937488697fa98230ae600fd",
            "8c0841710972431fa3ea149af084c447",
            "e79ef7f3cd434c05881ad632595112df",
            "a3145374806346dbbdf62873b49a596f",
            "b9e82ba3ba6d4c0fbb201c40abaa54c0",
            "cd7c59983f444dd19f0e362efb7b8ce9",
            "e225825314df42989d79d951c66db339",
            "47a7f196553e420994dfaa5f9ca990d2",
            "ce3ab80aadf7481fa2a780963242fab6",
            "a8055eb3ec5d4958831cb4b3ae847d25",
            "e94b5861138a4f8096de1f9053eda3fe",
            "d61df40bdacb43b2ba8a8b9096c4d25b",
            "db598984ccb841bca6cd0dd511070aaa",
            "c8befe02aade4f9d9ce1d6b07c35beb0",
            "37fe90379210419d9b60725ad50e2494",
            "13a504ad9b32441b96e5ae248e9df72a",
            "7c511ffbab0c4ba195ee45ff39e60866",
            "f609c5cf49fd424384bcea0841947aa3",
            "1228ef3ea899477bb490a19bfa5563d7",
            "d668f5eed0b44a449ab2183b598ebf56",
            "8f472ec055e94dd99b3f76fcfd8622a2",
            "796eccdaf22d4e1891aca29c1b409dd3",
            "4cfa0d8340b240b59170e0860b5833bd",
            "942278bdd1da4474952da41ecbe8541c",
            "65aa7ff80dd1404abe0a85c1dd739b5d",
            "10aad65d26234dabbfd5305691f255a7",
            "f64ed140f17f40ffab42a17cd59beee5",
            "a7fc196154f341dc894b615656a47d56",
            "6dbe628dc89d487da46902b4dd396842",
            "2498ac1cd41a4a46a97cc1330b8a3e68",
            "ee229c1723dd4679af7547a799058aeb",
            "ef3afcc447094b2a871a8370c141238c",
            "208f4a0404d4469d98179e4282c90973",
            "e471b9abd7984f078c5ac3a265ebd3d1",
            "b7314c1b369643259a1fc03008aad470",
            "5ec0da5940c34a20be346d65973605f1",
            "fa5a1a0a5a744dfa92c5457895a80b9c"
          ]
        },
        "outputId": "c3a11370-f7ee-44c5-ce87-9bb75eb106dd"
      },
      "source": [
        "# Dữ liệu DCGAN\n",
        "img_resize = 32   # resize to 32x32 imgs\n",
        "transform = transforms.Compose([transforms.Resize(img_resize), transforms.ToTensor()])\n",
        "train_dataDCGAN = datasets.MNIST(root='data', train=True, download=True, transform=transform)\n",
        "# train_dataDCGAN = datasets.FashionMNIST(root='data', train=True, download=True, transform=transform)\n",
        "# prepare data loader\n",
        "train_loaderDCGAN = torch.utils.data.DataLoader(train_data, batch_size=batch_size,shuffle=True,num_workers=num_workers)"
      ],
      "execution_count": 3,
      "outputs": [
        {
          "output_type": "stream",
          "name": "stdout",
          "text": [
            "Downloading http://yann.lecun.com/exdb/mnist/train-images-idx3-ubyte.gz\n",
            "Downloading http://yann.lecun.com/exdb/mnist/train-images-idx3-ubyte.gz to data/MNIST/raw/train-images-idx3-ubyte.gz\n"
          ]
        },
        {
          "output_type": "display_data",
          "data": {
            "application/vnd.jupyter.widget-view+json": {
              "model_id": "2a300449e8b04517bd836ae423688126",
              "version_minor": 0,
              "version_major": 2
            },
            "text/plain": [
              "  0%|          | 0/9912422 [00:00<?, ?it/s]"
            ]
          },
          "metadata": {}
        },
        {
          "output_type": "stream",
          "name": "stdout",
          "text": [
            "Extracting data/MNIST/raw/train-images-idx3-ubyte.gz to data/MNIST/raw\n",
            "\n",
            "Downloading http://yann.lecun.com/exdb/mnist/train-labels-idx1-ubyte.gz\n",
            "Downloading http://yann.lecun.com/exdb/mnist/train-labels-idx1-ubyte.gz to data/MNIST/raw/train-labels-idx1-ubyte.gz\n"
          ]
        },
        {
          "output_type": "display_data",
          "data": {
            "application/vnd.jupyter.widget-view+json": {
              "model_id": "b9e82ba3ba6d4c0fbb201c40abaa54c0",
              "version_minor": 0,
              "version_major": 2
            },
            "text/plain": [
              "  0%|          | 0/28881 [00:00<?, ?it/s]"
            ]
          },
          "metadata": {}
        },
        {
          "output_type": "stream",
          "name": "stdout",
          "text": [
            "Extracting data/MNIST/raw/train-labels-idx1-ubyte.gz to data/MNIST/raw\n",
            "\n",
            "Downloading http://yann.lecun.com/exdb/mnist/t10k-images-idx3-ubyte.gz\n",
            "Downloading http://yann.lecun.com/exdb/mnist/t10k-images-idx3-ubyte.gz to data/MNIST/raw/t10k-images-idx3-ubyte.gz\n"
          ]
        },
        {
          "output_type": "display_data",
          "data": {
            "application/vnd.jupyter.widget-view+json": {
              "model_id": "13a504ad9b32441b96e5ae248e9df72a",
              "version_minor": 0,
              "version_major": 2
            },
            "text/plain": [
              "  0%|          | 0/1648877 [00:00<?, ?it/s]"
            ]
          },
          "metadata": {}
        },
        {
          "output_type": "stream",
          "name": "stdout",
          "text": [
            "Extracting data/MNIST/raw/t10k-images-idx3-ubyte.gz to data/MNIST/raw\n",
            "\n",
            "Downloading http://yann.lecun.com/exdb/mnist/t10k-labels-idx1-ubyte.gz\n",
            "Downloading http://yann.lecun.com/exdb/mnist/t10k-labels-idx1-ubyte.gz to data/MNIST/raw/t10k-labels-idx1-ubyte.gz\n"
          ]
        },
        {
          "output_type": "display_data",
          "data": {
            "application/vnd.jupyter.widget-view+json": {
              "model_id": "f64ed140f17f40ffab42a17cd59beee5",
              "version_minor": 0,
              "version_major": 2
            },
            "text/plain": [
              "  0%|          | 0/4542 [00:00<?, ?it/s]"
            ]
          },
          "metadata": {}
        },
        {
          "output_type": "stream",
          "name": "stdout",
          "text": [
            "Extracting data/MNIST/raw/t10k-labels-idx1-ubyte.gz to data/MNIST/raw\n",
            "\n"
          ]
        }
      ]
    },
    {
      "cell_type": "markdown",
      "metadata": {
        "id": "CF_JbXDiUHcJ"
      },
      "source": [
        "### Trực quan dữ liệu"
      ]
    },
    {
      "cell_type": "code",
      "metadata": {
        "colab": {
          "base_uri": "https://localhost:8080/",
          "height": 230
        },
        "id": "ffwbcfW0UHcK",
        "outputId": "c39118a9-c68a-41bb-ce56-38e84befd15a"
      },
      "source": [
        "# obtain one batch of training images\n",
        "dataiter = iter(train_loader) #iter -- trả về đối tượng iterator có thể sử dụng cho for...\n",
        "images, labels = dataiter.next() #next() -- lấy lần lượt một phần tử trong danh sách\n",
        "images = images.numpy()\n",
        "\n",
        "# get one image from the batch\n",
        "img = np.squeeze(images[7])\n",
        "\n",
        "fig = plt.figure(figsize = (3,3)) \n",
        "ax = fig.add_subplot(111)\n",
        "ax.imshow(img, cmap='gray')"
      ],
      "execution_count": 11,
      "outputs": [
        {
          "output_type": "execute_result",
          "data": {
            "text/plain": [
              "<matplotlib.image.AxesImage at 0x7f65cbd6e850>"
            ]
          },
          "metadata": {},
          "execution_count": 11
        },
        {
          "output_type": "display_data",
          "data": {
            "image/png": "[encoded data removed]",
            "text/plain": [
              "<Figure size 216x216 with 1 Axes>"
            ]
          },
          "metadata": {
            "needs_background": "light"
          }
        }
      ]
    },
    {
      "cell_type": "markdown",
      "metadata": {
        "id": "iJZeCJqiUHcO"
      },
      "source": [
        "---\n",
        "# Xây dựng mô hình\n",
        "\n",
        "GAN gồm hai mạng đối nghịch, mô hình phân biệt và mô hình sinh"
      ]
    },
    {
      "cell_type": "markdown",
      "metadata": {
        "id": "4n6OsFnEbIz9"
      },
      "source": [
        "## Basic Discriminator\n",
        "Mạng Discriminator phiên bản cơ bản là một mô hình phân biệt tuyến tính (linear classisfier) \n",
        "\n",
        "\n",
        "*   Hàm kích hoạt sử dụng Leaky ReLU\n",
        "*   Output: 0-1 để đưa ra ảnh giả hay ảnh thật (BCEWithLogitsLoss đã bao gồm hàm sigmoid nên không cần thêm hàm kích hoạt ở layer cuối)\n",
        "* Hàm Loss: BCEWithLogitsLoss"
      ]
    },
    {
      "cell_type": "code",
      "metadata": {
        "id": "wY8ZzkW-UHcR"
      },
      "source": [
        "import torch.nn as nn\n",
        "import torch.nn.functional as F\n",
        "\n",
        "class Discriminator(nn.Module):\n",
        "\n",
        "    def __init__(self, input_size, hidden_dim, output_size):\n",
        "        super(Discriminator, self).__init__()\n",
        "        # define all layers\n",
        "        # define hidden linear layers\n",
        "        self.fc1 = nn.Linear(input_size, hidden_dim*4)\n",
        "        self.fc2 = nn.Linear(hidden_dim*4, hidden_dim*2)\n",
        "        self.fc3 = nn.Linear(hidden_dim*2, hidden_dim)\n",
        "        \n",
        "        # final fully-connected layer\n",
        "        self.fc4 = nn.Linear(hidden_dim, output_size)\n",
        "        \n",
        "        # dropout layer \n",
        "        self.dropout = nn.Dropout(0.3)\n",
        "        \n",
        "    def forward(self, x):\n",
        "        # flatten image\n",
        "        x = x.view(-1, 28*28)\n",
        "        # all hidden layers\n",
        "        # pass x through all layers\n",
        "        # apply leaky relu activation to all hidden layers\n",
        "        x = F.leaky_relu(self.fc1(x), 0.2) # (input, negative_slope=0.2)\n",
        "        x = self.dropout(x)\n",
        "        x = F.leaky_relu(self.fc2(x), 0.2)\n",
        "        x = self.dropout(x)\n",
        "        x = F.leaky_relu(self.fc3(x), 0.2)\n",
        "        x = self.dropout(x) #Sử dụng dropout để làm mịn kết quả\n",
        "        # final layer\n",
        "        out = self.fc4(x)\n",
        "        return out"
      ],
      "execution_count": 36,
      "outputs": []
    },
    {
      "cell_type": "markdown",
      "metadata": {
        "id": "e1a7UzU-UHcT"
      },
      "source": [
        "##Basic Generator\n",
        "\n",
        "Mạng Generator được cài đặt tương tự như discriminator ngoại trừ áp dụng hàm tanh cho ouput layer - cho kết quả -1 và 1 thay vì 0 - 1.\n",
        "> Chuẩn hóa giá trị pixel ảnh thực đưa vào về khoảng -1 và 1 khi huấn luyện mạng Discriminator"
      ]
    },
    {
      "cell_type": "code",
      "metadata": {
        "id": "j6VnOq0jUHcV"
      },
      "source": [
        "class Generator(nn.Module):\n",
        "\n",
        "    def __init__(self, input_size, hidden_dim, output_size):\n",
        "        super(Generator, self).__init__()\n",
        "\n",
        "        # define hidden linear layers\n",
        "        self.fc1 = nn.Linear(input_size, hidden_dim)\n",
        "        self.fc2 = nn.Linear(hidden_dim, hidden_dim*2)\n",
        "        self.fc3 = nn.Linear(hidden_dim*2, hidden_dim*4)\n",
        "        \n",
        "        # final fully-connected layer\n",
        "        self.fc4 = nn.Linear(hidden_dim*4, output_size)\n",
        "        \n",
        "        # dropout layer \n",
        "        self.dropout = nn.Dropout(0.3)\n",
        "        \n",
        "    def forward(self, x):\n",
        "        # all hidden layers\n",
        "        # pass x through all layers\n",
        "        # apply leaky relu activation to all hidden layers\n",
        "        x = F.leaky_relu(self.fc1(x), 0.2) # (input, negative_slope=0.2)\n",
        "        x = self.dropout(x)\n",
        "        x = F.leaky_relu(self.fc2(x), 0.2)\n",
        "        x = self.dropout(x)\n",
        "        x = F.leaky_relu(self.fc3(x), 0.2)\n",
        "        x = self.dropout(x) #Sử dụng dropout để làm mịn kết quả\n",
        "        # final layer\n",
        "        out = torch.tanh(self.fc4(x))\n",
        "        return out"
      ],
      "execution_count": 37,
      "outputs": []
    },
    {
      "cell_type": "markdown",
      "metadata": {
        "id": "2VRnGHoNPatE"
      },
      "source": [
        "## DCGAN Discriminator\n",
        "*   Sử dụng bộ lọc kích thước 32 ở lớp đầu tiên và gấp đôi kích thước theo độ sâu layer\n",
        "*   Sử dụng BatchNorm2d để chuẩn hóa tham số\n",
        "* Hàm Loss: BCEWithLogitsLoss\n",
        "> kernel_size đề xuất: 2, 4"
      ]
    },
    {
      "cell_type": "code",
      "metadata": {
        "id": "j9QybWSUQ0-z"
      },
      "source": [
        "\n",
        "\n",
        "# Hàm conv giúp tạo một lớp convolution sử dụng batch_norm\n",
        "def conv(in_channels, out_channels, kernel_size, stride=2, padding=1, batch_norm=True):\n",
        "    layers = []\n",
        "    conv_layer = nn.Conv2d(in_channels, out_channels, \n",
        "                           kernel_size, stride, padding, bias=False)\n",
        "    \n",
        "    # append conv layer\n",
        "    layers.append(conv_layer)\n",
        "\n",
        "    if batch_norm:\n",
        "        # append batchnorm layer\n",
        "        layers.append(nn.BatchNorm2d(out_channels))\n",
        "     \n",
        "    # using Sequential container\n",
        "    return nn.Sequential(*layers)\n"
      ],
      "execution_count": 38,
      "outputs": []
    },
    {
      "cell_type": "code",
      "metadata": {
        "id": "eJ4Tm1x5PatF"
      },
      "source": [
        "class DCDiscriminator(nn.Module):\n",
        "\n",
        "    def __init__(self, conv_dim=32):\n",
        "        super(DCDiscriminator, self).__init__()\n",
        "\n",
        "        # complete init function\n",
        "        self.conv_dim = conv_dim\n",
        "\n",
        "        # 32x32 input\n",
        "        self.conv1 = conv(1, conv_dim, 4, batch_norm=False) # first layer, no batch_norm\n",
        "        # 16x16 out\n",
        "        self.conv2 = conv(conv_dim, conv_dim*2, 4)\n",
        "        # 8x8 out\n",
        "        self.conv3 = conv(conv_dim*2, conv_dim*4, 4)\n",
        "        # 4x4 out\n",
        "        \n",
        "        # final, fully-connected layer\n",
        "        self.fc = nn.Linear(conv_dim*4*4*4, 1)\n",
        "\n",
        "    def forward(self, x):\n",
        "        # all hidden layers + leaky relu activation\n",
        "        out = F.leaky_relu(self.conv1(x), 0.2)\n",
        "        out = F.leaky_relu(self.conv2(out), 0.2)\n",
        "        out = F.leaky_relu(self.conv3(out), 0.2)\n",
        "        \n",
        "        # flatten\n",
        "        out = out.view(-1, self.conv_dim*4*4*4)\n",
        "        \n",
        "        # final output layer\n",
        "        out = self.fc(out)        \n",
        "        return out"
      ],
      "execution_count": 39,
      "outputs": []
    },
    {
      "cell_type": "markdown",
      "metadata": {
        "id": "2XGtTF6MPQFc"
      },
      "source": [
        "##DCGAN Generator\n",
        "\n",
        "* size của $z$ = size ảnh\n",
        "\n",
        "Sử dụng transpose convolutional layers để tạo ảnh mới\n",
        "* Lớp đầu tiên: fully connected layer \n",
        "* Sử dụng batch normalization và leaky ReLU\n",
        "* Các lớp sau: transpose convolutional layers (*gấp đôi kích thước và chiều cao so với lớp trước*)\n",
        "* Lớp cuối: chỉ sử dụng hàm kích hoạt tanh thay vì batch normalization và ReLU như các lớp khác"
      ]
    },
    {
      "cell_type": "code",
      "metadata": {
        "id": "jgf5inXZcCG_"
      },
      "source": [
        ""
      ],
      "execution_count": null,
      "outputs": []
    },
    {
      "cell_type": "code",
      "metadata": {
        "id": "Jl5krPvIWHSa"
      },
      "source": [
        "def deconv(in_channels, out_channels, kernel_size, stride=2, padding=1, batch_norm=True):\n",
        "    \"\"\"Creates a transposed-convolutional layer, with optional batch normalization.\n",
        "    \"\"\"\n",
        "    # create a sequence of transpose + optional batch norm layers\n",
        "    layers = []\n",
        "    transpose_conv_layer = nn.ConvTranspose2d(in_channels, out_channels, \n",
        "                                              kernel_size, stride, padding, bias=False)\n",
        "    # append transpose convolutional layer\n",
        "    layers.append(transpose_conv_layer)\n",
        "    \n",
        "    if batch_norm:\n",
        "        # append batchnorm layer\n",
        "        layers.append(nn.BatchNorm2d(out_channels))\n",
        "        \n",
        "    return nn.Sequential(*layers)"
      ],
      "execution_count": 40,
      "outputs": []
    },
    {
      "cell_type": "code",
      "metadata": {
        "id": "4dZeu7K2PQFd"
      },
      "source": [
        "\n",
        "\n",
        "class DCGenerator(nn.Module):\n",
        "    \n",
        "    def __init__(self, z_size, conv_dim=32):\n",
        "        super(DCGenerator, self).__init__()\n",
        "\n",
        "        # complete init function\n",
        "        \n",
        "        self.conv_dim = conv_dim\n",
        "        \n",
        "        # first, fully-connected layer\n",
        "        self.fc = nn.Linear(z_size, conv_dim*4*4*4)\n",
        "\n",
        "        # transpose conv layers\n",
        "        self.t_conv1 = deconv(conv_dim*4, conv_dim*2, 4)\n",
        "        self.t_conv2 = deconv(conv_dim*2, conv_dim, 4)\n",
        "        self.t_conv3 = deconv(conv_dim, 1, 4, batch_norm=False)\n",
        "        \n",
        "\n",
        "    def forward(self, x):\n",
        "        # fully-connected + reshape \n",
        "        out = self.fc(x)\n",
        "        out = out.view(-1, self.conv_dim*4, 4, 4) # (batch_size, depth, 4, 4)\n",
        "        \n",
        "        # hidden transpose conv layers + relu\n",
        "        out = F.relu(self.t_conv1(out))\n",
        "        out = F.relu(self.t_conv2(out))\n",
        "        \n",
        "        # last layer + tanh activation\n",
        "        out = self.t_conv3(out)\n",
        "        out = F.tanh(out)\n",
        "        \n",
        "        return out"
      ],
      "execution_count": 41,
      "outputs": []
    },
    {
      "cell_type": "markdown",
      "metadata": {
        "id": "D_3oGna9UHcX"
      },
      "source": [
        "## Model hyperparameters"
      ]
    },
    {
      "cell_type": "code",
      "metadata": {
        "id": "eqYiiqKAUHcY"
      },
      "source": [
        "# Discriminator hyperparams\n",
        "\n",
        "# Size of input image to discriminator (28*28)\n",
        "input_size = 784\n",
        "# Size of discriminator output (real or fake)\n",
        "d_output_size = 1\n",
        "# Size of *last* hidden layer in the discriminator\n",
        "d_hidden_size = 256\n",
        "\n",
        "# Generator hyperparams\n",
        "\n",
        "# Size of latent vector to give to generator\n",
        "z_size = 100\n",
        "# Size of generator output (generated image)\n",
        "g_output_size = 784\n",
        "# Size of *first* hidden layer in the generator\n",
        "g_hidden_size = 256"
      ],
      "execution_count": 42,
      "outputs": []
    },
    {
      "cell_type": "markdown",
      "metadata": {
        "id": "73zmN3xSUHcZ"
      },
      "source": [
        "## Build complete network\n",
        "\n",
        "Now we're instantiating the discriminator and generator from the classes defined above. Make sure you've passed in the correct input arguments."
      ]
    },
    {
      "cell_type": "code",
      "metadata": {
        "id": "-2G_2ycuUHca",
        "colab": {
          "base_uri": "https://localhost:8080/"
        },
        "outputId": "e519bdd7-85a3-44e6-d822-6fd1ed799663"
      },
      "source": [
        "# Mô hình GAN cơ bản\n",
        "D = Discriminator(input_size, d_hidden_size, d_output_size)\n",
        "G = Generator(z_size, g_hidden_size, g_output_size)\n",
        "\n",
        "# check that they are as you expect\n",
        "print(D)\n",
        "print()\n",
        "print(G)"
      ],
      "execution_count": 43,
      "outputs": [
        {
          "output_type": "stream",
          "name": "stdout",
          "text": [
            "Discriminator(\n",
            "  (fc1): Linear(in_features=784, out_features=1024, bias=True)\n",
            "  (fc2): Linear(in_features=1024, out_features=512, bias=True)\n",
            "  (fc3): Linear(in_features=512, out_features=256, bias=True)\n",
            "  (fc4): Linear(in_features=256, out_features=1, bias=True)\n",
            "  (dropout): Dropout(p=0.3, inplace=False)\n",
            ")\n",
            "\n",
            "Generator(\n",
            "  (fc1): Linear(in_features=100, out_features=256, bias=True)\n",
            "  (fc2): Linear(in_features=256, out_features=512, bias=True)\n",
            "  (fc3): Linear(in_features=512, out_features=1024, bias=True)\n",
            "  (fc4): Linear(in_features=1024, out_features=784, bias=True)\n",
            "  (dropout): Dropout(p=0.3, inplace=False)\n",
            ")\n"
          ]
        }
      ]
    },
    {
      "cell_type": "code",
      "metadata": {
        "colab": {
          "base_uri": "https://localhost:8080/"
        },
        "id": "yseZAJQCFgcg",
        "outputId": "22d01456-e2d5-4ce0-9aed-a9baf5f1356c"
      },
      "source": [
        "conv_dim = 32\n",
        "z_size = 100\n",
        "\n",
        "# define discriminator and generator\n",
        "D = DCDiscriminator(conv_dim)\n",
        "G = DCGenerator(z_size=z_size, conv_dim=conv_dim)\n",
        "\n",
        "print(D)\n",
        "print()\n",
        "print(G)"
      ],
      "execution_count": 44,
      "outputs": [
        {
          "output_type": "stream",
          "name": "stdout",
          "text": [
            "DCDiscriminator(\n",
            "  (conv1): Sequential(\n",
            "    (0): Conv2d(1, 32, kernel_size=(4, 4), stride=(2, 2), padding=(1, 1), bias=False)\n",
            "  )\n",
            "  (conv2): Sequential(\n",
            "    (0): Conv2d(32, 64, kernel_size=(4, 4), stride=(2, 2), padding=(1, 1), bias=False)\n",
            "    (1): BatchNorm2d(64, eps=1e-05, momentum=0.1, affine=True, track_running_stats=True)\n",
            "  )\n",
            "  (conv3): Sequential(\n",
            "    (0): Conv2d(64, 128, kernel_size=(4, 4), stride=(2, 2), padding=(1, 1), bias=False)\n",
            "    (1): BatchNorm2d(128, eps=1e-05, momentum=0.1, affine=True, track_running_stats=True)\n",
            "  )\n",
            "  (fc): Linear(in_features=2048, out_features=1, bias=True)\n",
            ")\n",
            "\n",
            "DCGenerator(\n",
            "  (fc): Linear(in_features=100, out_features=2048, bias=True)\n",
            "  (t_conv1): Sequential(\n",
            "    (0): ConvTranspose2d(128, 64, kernel_size=(4, 4), stride=(2, 2), padding=(1, 1), bias=False)\n",
            "    (1): BatchNorm2d(64, eps=1e-05, momentum=0.1, affine=True, track_running_stats=True)\n",
            "  )\n",
            "  (t_conv2): Sequential(\n",
            "    (0): ConvTranspose2d(64, 32, kernel_size=(4, 4), stride=(2, 2), padding=(1, 1), bias=False)\n",
            "    (1): BatchNorm2d(32, eps=1e-05, momentum=0.1, affine=True, track_running_stats=True)\n",
            "  )\n",
            "  (t_conv3): Sequential(\n",
            "    (0): ConvTranspose2d(32, 1, kernel_size=(4, 4), stride=(2, 2), padding=(1, 1), bias=False)\n",
            "  )\n",
            ")\n"
          ]
        }
      ]
    },
    {
      "cell_type": "code",
      "metadata": {
        "colab": {
          "base_uri": "https://localhost:8080/"
        },
        "id": "SKAb2ATLYrCy",
        "outputId": "74252849-1116-4116-c41c-fe40fc01e21e"
      },
      "source": [
        "train_on_gpu = torch.cuda.is_available()\n",
        "\n",
        "if train_on_gpu:\n",
        "    # move models to GPU\n",
        "    G.cuda()\n",
        "    D.cuda()\n",
        "    print('GPU available for training. Models moved to GPU')\n",
        "else:\n",
        "    print('Training on CPU.')"
      ],
      "execution_count": 45,
      "outputs": [
        {
          "output_type": "stream",
          "name": "stdout",
          "text": [
            "GPU available for training. Models moved to GPU\n"
          ]
        }
      ]
    },
    {
      "cell_type": "markdown",
      "metadata": {
        "id": "OlGULouwUHcb"
      },
      "source": [
        "---\n",
        "## Discriminator and Generator Losses\n",
        "\n",
        "### Discriminator Losses\n",
        "\n",
        "> * `d_loss = d_real_loss + d_fake_loss` - Discriminator loss = tổng hàm mất mát của ảnh thật và ảnh giả\n",
        "* Mục tiêu là ảnh thật sẽ đưa ra giá trị = 1, ảnh giả sẽ đưa ra giá trị = 0\n",
        "* BCEWithLogitsLoss\n",
        ">\n",
        "Làm mịn kết quả của Discriminator bằng cách giảm giá trị output của ảnh thật là 0.9. \n",
        "Chú ý ảnh thật được lấy từ kết quả `fake_images = G(z)`. \n",
        "\n",
        "### Generator Loss\n",
        "Tương tự như Discriminator loss nhưng với flipped labels do mục tiêu là  `D(fake_images) = 1`. Labels được **flipped** thể hiện generator muốn lừa discriminator rằng ảnh giả là thật, vì vậy Generator Loss được tính bằng `g_loss = real_loss(D_fake) `."
      ]
    },
    {
      "cell_type": "code",
      "metadata": {
        "id": "qbaMMV5OUHcc"
      },
      "source": [
        "# Calculate losses\n",
        "def real_loss(D_out, smooth=False):\n",
        "    batch_size = D_out.size(0)\n",
        "    # label smoothing\n",
        "    if smooth:\n",
        "        # smooth, real labels = 0.9gh=\n",
        "        labels = torch.ones(batch_size)*0.9\n",
        "    else:\n",
        "        labels = torch.ones(batch_size) # real labels = 1\n",
        "    # move labels to GPU if available     \n",
        "    if train_on_gpu:\n",
        "        labels = labels.cuda()    \n",
        "    # numerically stable loss\n",
        "    criterion = nn.BCEWithLogitsLoss()\n",
        "    # calculate loss\n",
        "    loss = criterion(D_out.squeeze(), labels)\n",
        "    return loss\n",
        "\n",
        "def fake_loss(D_out):\n",
        "    batch_size = D_out.size(0)\n",
        "    labels = torch.zeros(batch_size) # fake labels = 0\n",
        "    if train_on_gpu:\n",
        "        labels = labels.cuda()\n",
        "    criterion = nn.BCEWithLogitsLoss()\n",
        "    # calculate loss\n",
        "    loss = criterion(D_out.squeeze(), labels)\n",
        "    return loss"
      ],
      "execution_count": 46,
      "outputs": []
    },
    {
      "cell_type": "markdown",
      "metadata": {
        "id": "84CKIHiMUHcd"
      },
      "source": [
        "## Optimizers"
      ]
    },
    {
      "cell_type": "code",
      "metadata": {
        "id": "TmvobF6WUHce",
        "scrolled": true
      },
      "source": [
        "\n",
        "# params\n",
        "lr = 0.0002\n",
        "beta1=0.5\n",
        "beta2=0.999 # default value\n",
        "\n",
        "# Create optimizers for the discriminator and generator\n",
        "d_optimizer = optim.Adam(D.parameters(), lr, [beta1, beta2])\n",
        "g_optimizer = optim.Adam(G.parameters(), lr, [beta1, beta2])"
      ],
      "execution_count": 47,
      "outputs": []
    },
    {
      "cell_type": "markdown",
      "metadata": {
        "id": "wmESjlhTUHce"
      },
      "source": [
        "---\n",
        "## Training\n",
        "Quá trình huấn luyện bao gồm sự thay phiên huấn luyện giữa mô hình phân biệt và mô hình sinh.\n",
        "\n",
        "### Discriminator training\n",
        "1. Tính Discriminator loss trên ảnh thật.     \n",
        "2. Sinh ảnh giả\n",
        "3. Tính Discriminator loss trên ảnh giả.     \n",
        "4. Cộng real loss và fake loss\n",
        "5. Thực hiện bước backpropagation + optimization để cập nhật discriminator weights\n",
        "\n",
        "### Generator training\n",
        "1. Sinh ảnh giả - fake images\n",
        "2. Tính discriminator loss trên fake images, sử **flipped** labels - `g_loss = real_loss(D_fake)`\n",
        "3. Thực hiện bước backpropagation + optimization để cập nhật generator weights"
      ]
    },
    {
      "cell_type": "code",
      "metadata": {
        "colab": {
          "base_uri": "https://localhost:8080/"
        },
        "id": "F85207vDUHcf",
        "scrolled": true,
        "outputId": "0705a37c-ffe7-42a3-e5bb-581eceea8fa6"
      },
      "source": [
        "import pickle as pkl\n",
        "\n",
        "# training hyperparams\n",
        "num_epochs = 15\n",
        "\n",
        "# keep track of loss and generated, \"fake\" samples\n",
        "samples = []\n",
        "losses = []\n",
        "\n",
        "print_every = 300\n",
        "\n",
        "# Get some fixed data for sampling. These are images that are held\n",
        "# constant throughout training, and allow us to inspect the model's performance\n",
        "sample_size=32\n",
        "fixed_z = np.random.uniform(-1, 1, size=(sample_size, z_size))\n",
        "fixed_z = torch.from_numpy(fixed_z).float()\n",
        "\n",
        "# train the network\n",
        "for epoch in range(num_epochs):\n",
        "    \n",
        "    for batch_i, (real_images, _) in enumerate(train_loader):\n",
        "                \n",
        "        batch_size = real_images.size(0)\n",
        "        \n",
        "        # important rescaling step\n",
        "        real_images = real_images*2 - 1          \n",
        "        # ============================================\n",
        "        #            TRAIN THE DISCRIMINATOR\n",
        "        # ============================================\n",
        "        \n",
        "        d_optimizer.zero_grad()\n",
        "        \n",
        "        # 1. Train with real images\n",
        "\n",
        "        # Compute the discriminator losses on real images \n",
        "        if train_on_gpu:\n",
        "            real_images = real_images.cuda()\n",
        "        \n",
        "        D_real = D(real_images)\n",
        "        d_real_loss = real_loss(D_real)\n",
        "        \n",
        "        # 2. Train with fake images\n",
        "        \n",
        "        # Generate fake images\n",
        "        z = np.random.uniform(-1, 1, size=(batch_size, z_size))\n",
        "        z = torch.from_numpy(z).float()\n",
        "        # move x to GPU, if available\n",
        "        if train_on_gpu:\n",
        "            z = z.cuda()\n",
        "        # print(z.shape)\n",
        "        fake_images = G(z)\n",
        "        \n",
        "        # Compute the discriminator losses on fake images            \n",
        "        D_fake = D(fake_images)\n",
        "        d_fake_loss = fake_loss(D_fake)\n",
        "        \n",
        "        # add up loss and perform backprop\n",
        "        d_loss = d_real_loss + d_fake_loss\n",
        "        d_loss.backward()\n",
        "        d_optimizer.step()\n",
        "        \n",
        "        \n",
        "        # =========================================\n",
        "        #            TRAIN THE GENERATOR\n",
        "        # =========================================\n",
        "        g_optimizer.zero_grad()\n",
        "        \n",
        "        # 1. Train with fake images and flipped labels\n",
        "        \n",
        "        # Generate fake images\n",
        "        z = np.random.uniform(-1, 1, size=(batch_size, z_size))\n",
        "        z = torch.from_numpy(z).float()\n",
        "        if train_on_gpu:\n",
        "            z = z.cuda()\n",
        "        fake_images = G(z)\n",
        "        \n",
        "        # Compute the discriminator losses on fake images \n",
        "        # using flipped labels!\n",
        "        D_fake = D(fake_images)\n",
        "        g_loss = real_loss(D_fake) # use real loss to flip labels\n",
        "        \n",
        "        # perform backprop\n",
        "        g_loss.backward()\n",
        "        g_optimizer.step()\n",
        "\n",
        "        # Print some loss stats\n",
        "        if batch_i % print_every == 0:\n",
        "            # append discriminator loss and generator loss\n",
        "            losses.append((d_loss.item(), g_loss.item()))\n",
        "            # print discriminator and generator loss\n",
        "            print('Epoch [{:5d}/{:5d}] | d_loss: {:6.4f} | g_loss: {:6.4f}'.format(\n",
        "                    epoch+1, num_epochs, d_loss.item(), g_loss.item()))\n",
        "\n",
        "    \n",
        "    ## AFTER EACH EPOCH##    \n",
        "    # generate and save sample, fake images\n",
        "    G.eval() # for generating samples\n",
        "    if train_on_gpu:\n",
        "        fixed_z = fixed_z.cuda()\n",
        "    samples_z = G(fixed_z)\n",
        "    samples.append(samples_z)\n",
        "    G.train() # back to training mode\n",
        "\n",
        "\n",
        "# Save training generator samples\n",
        "with open('train_samples.pkl', 'wb') as f:\n",
        "    pkl.dump(samples, f)"
      ],
      "execution_count": 48,
      "outputs": [
        {
          "output_type": "stream",
          "name": "stderr",
          "text": [
            "/usr/local/lib/python3.7/dist-packages/torch/nn/functional.py:1795: UserWarning: nn.functional.tanh is deprecated. Use torch.tanh instead.\n",
            "  warnings.warn(\"nn.functional.tanh is deprecated. Use torch.tanh instead.\")\n"
          ]
        },
        {
          "output_type": "stream",
          "name": "stdout",
          "text": [
            "Epoch [    1/   15] | d_loss: 1.6181 | g_loss: 0.8078\n",
            "Epoch [    1/   15] | d_loss: 0.3645 | g_loss: 3.8498\n",
            "Epoch [    1/   15] | d_loss: 0.1359 | g_loss: 3.8369\n",
            "Epoch [    1/   15] | d_loss: 0.1866 | g_loss: 2.9707\n",
            "Epoch [    2/   15] | d_loss: 0.1776 | g_loss: 5.3023\n",
            "Epoch [    2/   15] | d_loss: 2.4946 | g_loss: 8.0792\n",
            "Epoch [    2/   15] | d_loss: 0.5016 | g_loss: 3.5512\n",
            "Epoch [    2/   15] | d_loss: 0.2077 | g_loss: 2.3692\n",
            "Epoch [    3/   15] | d_loss: 0.1839 | g_loss: 2.3044\n",
            "Epoch [    3/   15] | d_loss: 0.2534 | g_loss: 4.3747\n",
            "Epoch [    3/   15] | d_loss: 0.2391 | g_loss: 2.5219\n",
            "Epoch [    3/   15] | d_loss: 0.1580 | g_loss: 2.8593\n",
            "Epoch [    4/   15] | d_loss: 0.4047 | g_loss: 2.6501\n",
            "Epoch [    4/   15] | d_loss: 0.1604 | g_loss: 5.9421\n",
            "Epoch [    4/   15] | d_loss: 3.8694 | g_loss: 5.9836\n",
            "Epoch [    4/   15] | d_loss: 0.1088 | g_loss: 3.5784\n",
            "Epoch [    5/   15] | d_loss: 0.0508 | g_loss: 3.4725\n",
            "Epoch [    5/   15] | d_loss: 0.4235 | g_loss: 1.5295\n",
            "Epoch [    5/   15] | d_loss: 0.0820 | g_loss: 3.4448\n",
            "Epoch [    5/   15] | d_loss: 0.2861 | g_loss: 2.3055\n",
            "Epoch [    6/   15] | d_loss: 0.1202 | g_loss: 5.4376\n",
            "Epoch [    6/   15] | d_loss: 0.0369 | g_loss: 4.6041\n",
            "Epoch [    6/   15] | d_loss: 0.0459 | g_loss: 4.7553\n",
            "Epoch [    6/   15] | d_loss: 0.0304 | g_loss: 5.0355\n",
            "Epoch [    7/   15] | d_loss: 0.0586 | g_loss: 5.7571\n",
            "Epoch [    7/   15] | d_loss: 0.0362 | g_loss: 4.8806\n",
            "Epoch [    7/   15] | d_loss: 0.0877 | g_loss: 4.9953\n",
            "Epoch [    7/   15] | d_loss: 0.0373 | g_loss: 4.3056\n",
            "Epoch [    8/   15] | d_loss: 0.0977 | g_loss: 3.5423\n",
            "Epoch [    8/   15] | d_loss: 0.2048 | g_loss: 2.6524\n",
            "Epoch [    8/   15] | d_loss: 0.0368 | g_loss: 4.7542\n",
            "Epoch [    8/   15] | d_loss: 0.0332 | g_loss: 5.9813\n",
            "Epoch [    9/   15] | d_loss: 0.0413 | g_loss: 4.7669\n",
            "Epoch [    9/   15] | d_loss: 0.1095 | g_loss: 3.5094\n",
            "Epoch [    9/   15] | d_loss: 0.0156 | g_loss: 4.3569\n",
            "Epoch [    9/   15] | d_loss: 0.0455 | g_loss: 3.1681\n",
            "Epoch [   10/   15] | d_loss: 0.0405 | g_loss: 4.4427\n",
            "Epoch [   10/   15] | d_loss: 0.0427 | g_loss: 4.9287\n",
            "Epoch [   10/   15] | d_loss: 0.0763 | g_loss: 4.8053\n",
            "Epoch [   10/   15] | d_loss: 0.1386 | g_loss: 9.6508\n",
            "Epoch [   11/   15] | d_loss: 0.1662 | g_loss: 2.9372\n",
            "Epoch [   11/   15] | d_loss: 0.0141 | g_loss: 5.1317\n",
            "Epoch [   11/   15] | d_loss: 0.0128 | g_loss: 6.3046\n",
            "Epoch [   11/   15] | d_loss: 0.0070 | g_loss: 6.7177\n",
            "Epoch [   12/   15] | d_loss: 0.0064 | g_loss: 7.4011\n",
            "Epoch [   12/   15] | d_loss: 0.2733 | g_loss: 4.6931\n",
            "Epoch [   12/   15] | d_loss: 0.0674 | g_loss: 5.7621\n",
            "Epoch [   12/   15] | d_loss: 0.0120 | g_loss: 5.0499\n",
            "Epoch [   13/   15] | d_loss: 0.0098 | g_loss: 5.7342\n",
            "Epoch [   13/   15] | d_loss: 0.0131 | g_loss: 5.1343\n",
            "Epoch [   13/   15] | d_loss: 0.0187 | g_loss: 6.1832\n",
            "Epoch [   13/   15] | d_loss: 0.0126 | g_loss: 6.1302\n",
            "Epoch [   14/   15] | d_loss: 0.0043 | g_loss: 6.3701\n",
            "Epoch [   14/   15] | d_loss: 0.0055 | g_loss: 6.7241\n",
            "Epoch [   14/   15] | d_loss: 0.1622 | g_loss: 2.7672\n",
            "Epoch [   14/   15] | d_loss: 0.0644 | g_loss: 4.5754\n",
            "Epoch [   15/   15] | d_loss: 0.0316 | g_loss: 5.2196\n",
            "Epoch [   15/   15] | d_loss: 0.0167 | g_loss: 5.7379\n",
            "Epoch [   15/   15] | d_loss: 0.0239 | g_loss: 6.3801\n",
            "Epoch [   15/   15] | d_loss: 0.0098 | g_loss: 5.6771\n"
          ]
        }
      ]
    },
    {
      "cell_type": "markdown",
      "metadata": {
        "id": "jEkqhM41UHch"
      },
      "source": [
        "## Training loss\n",
        "\n",
        "Here we'll plot the training losses for the generator and discriminator, recorded after each epoch."
      ]
    },
    {
      "cell_type": "code",
      "metadata": {
        "colab": {
          "base_uri": "https://localhost:8080/",
          "height": 300
        },
        "id": "RyOrEB8wUHch",
        "outputId": "27136c88-426d-41e1-e53c-bebd82932ab6"
      },
      "source": [
        "fig, ax = plt.subplots()\n",
        "losses = np.array(losses)\n",
        "plt.plot(losses.T[0], label='Discriminator')\n",
        "plt.plot(losses.T[1], label='Generator')\n",
        "plt.title(\"Training Losses\")\n",
        "plt.legend()"
      ],
      "execution_count": 28,
      "outputs": [
        {
          "output_type": "execute_result",
          "data": {
            "text/plain": [
              "<matplotlib.legend.Legend at 0x7f65c959b290>"
            ]
          },
          "metadata": {},
          "execution_count": 28
        },
        {
          "output_type": "display_data",
          "data": {
            "image/png": "[encoded data removed]",
            "text/plain": [
              "<Figure size 432x288 with 1 Axes>"
            ]
          },
          "metadata": {
            "needs_background": "light"
          }
        }
      ]
    },
    {
      "cell_type": "markdown",
      "metadata": {
        "id": "j2bozvgDUHci"
      },
      "source": [
        "## Generator samples from training\n",
        "\n",
        "Here we can view samples of images from the generator. First we'll look at the images we saved during training."
      ]
    },
    {
      "cell_type": "code",
      "metadata": {
        "id": "cIa4izC3UHcj"
      },
      "source": [
        "# helper function for viewing a list of passed in sample images\n",
        "def view_samples(epoch, samples, image_size):\n",
        "    fig, axes = plt.subplots(figsize=(7,7), nrows=4, ncols=4, sharey=True, sharex=True)\n",
        "    for ax, img in zip(axes.flatten(), samples[epoch]):\n",
        "        img = img.detach()\n",
        "        ax.xaxis.set_visible(False)\n",
        "        ax.yaxis.set_visible(False)\n",
        "        im = ax.imshow(img.reshape((image_size,image_size)), cmap='Greys_r')"
      ],
      "execution_count": null,
      "outputs": []
    },
    {
      "cell_type": "code",
      "metadata": {
        "id": "Bj-NjyzWUHck"
      },
      "source": [
        "# Load samples from generator, taken while training\n",
        "with open('train_samples.pkl', 'rb') as f:\n",
        "    samples = pkl.load(f)"
      ],
      "execution_count": 30,
      "outputs": []
    },
    {
      "cell_type": "code",
      "metadata": {
        "id": "zRzaZzilBOLr"
      },
      "source": [
        "# samples = samples.cpu()\n",
        "samples_cpu = []\n",
        "for sample in samples:\n",
        "  sample = sample.cpu()\n",
        "  samples_cpu.append(sample)\n",
        "# samples_cpu"
      ],
      "execution_count": null,
      "outputs": []
    },
    {
      "cell_type": "markdown",
      "metadata": {
        "id": "VVpjpFyhUHcl"
      },
      "source": [
        "These are samples from the final training epoch. You can see the generator is able to reproduce numbers like 1, 7, 3, 2. Since this is just a sample, it isn't representative of the full range of images this generator can make."
      ]
    },
    {
      "cell_type": "code",
      "metadata": {
        "id": "shU2kXoBUHcl",
        "colab": {
          "base_uri": "https://localhost:8080/",
          "height": 415
        },
        "outputId": "54ee38ab-3615-443c-c73b-fab4b48f7093"
      },
      "source": [
        "# -1 indicates final epoch's samples (the last in the list)\n",
        "# DCGAN\n",
        "view_samples(-1, samples_cpu, 32)\n",
        "# GAN thường\n",
        "# view_samples(-1, samples_cpu, 28)"
      ],
      "execution_count": 32,
      "outputs": [
        {
          "output_type": "display_data",
          "data": {
            "image/png": "[encoded data removed]",
            "text/plain": [
              "<Figure size 504x504 with 16 Axes>"
            ]
          },
          "metadata": {
            "needs_background": "light"
          }
        }
      ]
    },
    {
      "cell_type": "markdown",
      "metadata": {
        "id": "vQNWz9dtUHcm"
      },
      "source": [
        "Below I'm showing the generated images as the network was training, every 10 epochs."
      ]
    },
    {
      "cell_type": "code",
      "metadata": {
        "id": "O-hWEHH0UHcm"
      },
      "source": [
        "rows = 10 # split epochs into 10, so 100/10 = every 10 epochs\n",
        "cols = 6\n",
        "fig, axes = plt.subplots(figsize=(7,12), nrows=rows, ncols=cols, sharex=True, sharey=True)\n",
        "\n",
        "for sample, ax_row in zip(samples_cpu[::int(len(samples_cpu)/rows)], axes):\n",
        "    for img, ax in zip(sample[::int(len(sample)/cols)], ax_row):\n",
        "        img = img.detach()\n",
        "        ax.imshow(img.reshape((28,28)), cmap='Greys_r')\n",
        "        # IMAGE SIZE = 32 VỚI DCGAN\n",
        "        # ax.imshow(img.reshape((32,32)), cmap='Greys_r')\n",
        "        ax.xaxis.set_visible(False)\n",
        "        ax.yaxis.set_visible(False)"
      ],
      "execution_count": null,
      "outputs": []
    },
    {
      "cell_type": "markdown",
      "metadata": {
        "id": "FO_HJx47UHcp"
      },
      "source": [
        "## Sampling from the generator\n",
        "\n",
        "We can also get completely new images from the generator by using the checkpoint we saved after training. **We just need to pass in a new latent vector $z$ and we'll get new samples**!"
      ]
    },
    {
      "cell_type": "code",
      "metadata": {
        "id": "7gTR8lxIUHcq",
        "colab": {
          "base_uri": "https://localhost:8080/",
          "height": 452
        },
        "outputId": "8f5223df-4d8d-4a5d-e357-403d45436476"
      },
      "source": [
        "# randomly generated, new latent vectors\n",
        "sample_size=16\n",
        "rand_z = np.random.uniform(-1, 1, size=(sample_size, z_size))\n",
        "rand_z = torch.from_numpy(rand_z).float()\n",
        "if train_on_gpu:\n",
        "  rand_z = rand_z.cuda()\n",
        "\n",
        "G.eval() # eval mode\n",
        "# generated samples\n",
        "rand_images = G(rand_z)\n",
        "randimages_cpu = []\n",
        "for sample in rand_images:\n",
        "  sample = sample.cpu()\n",
        "  randimages_cpu.append(sample)\n",
        "# samples_cpu\n",
        "# 0 indicates the first set of samples in the passed in list\n",
        "# and we only have one batch of samples, here\n",
        "view_samples(0, [randimages_cpu])"
      ],
      "execution_count": 35,
      "outputs": [
        {
          "output_type": "stream",
          "name": "stderr",
          "text": [
            "/usr/local/lib/python3.7/dist-packages/torch/nn/functional.py:1795: UserWarning: nn.functional.tanh is deprecated. Use torch.tanh instead.\n",
            "  warnings.warn(\"nn.functional.tanh is deprecated. Use torch.tanh instead.\")\n"
          ]
        },
        {
          "output_type": "display_data",
          "data": {
            "image/png": "[encoded data removed]",
            "text/plain": [
              "<Figure size 504x504 with 16 Axes>"
            ]
          },
          "metadata": {
            "needs_background": "light"
          }
        }
      ]
    }
  ]
}